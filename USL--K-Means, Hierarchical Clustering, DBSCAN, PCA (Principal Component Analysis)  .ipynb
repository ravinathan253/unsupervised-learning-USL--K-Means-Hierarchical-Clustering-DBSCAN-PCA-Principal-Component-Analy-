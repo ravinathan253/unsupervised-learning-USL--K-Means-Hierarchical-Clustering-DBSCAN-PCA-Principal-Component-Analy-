{
 "cells": [
  {
   "cell_type": "code",
   "execution_count": 29,
   "id": "ea36b165",
   "metadata": {},
   "outputs": [],
   "source": [
    "import pandas as pd\n",
    "import numpy as np\n",
    "import matplotlib.pyplot as plt\n",
    "import seaborn as sns\n",
    "\n",
    "import warnings \n",
    "warnings.filterwarnings('ignore')"
   ]
  },
  {
   "cell_type": "code",
   "execution_count": 30,
   "id": "7d0ee399",
   "metadata": {},
   "outputs": [
    {
     "data": {
      "text/html": [
       "<div>\n",
       "<style scoped>\n",
       "    .dataframe tbody tr th:only-of-type {\n",
       "        vertical-align: middle;\n",
       "    }\n",
       "\n",
       "    .dataframe tbody tr th {\n",
       "        vertical-align: top;\n",
       "    }\n",
       "\n",
       "    .dataframe thead th {\n",
       "        text-align: right;\n",
       "    }\n",
       "</style>\n",
       "<table border=\"1\" class=\"dataframe\">\n",
       "  <thead>\n",
       "    <tr style=\"text-align: right;\">\n",
       "      <th></th>\n",
       "      <th>Global_active_power</th>\n",
       "      <th>Global_reactive_power</th>\n",
       "      <th>Voltage</th>\n",
       "      <th>Global_intensity</th>\n",
       "      <th>Kitchen_consumption</th>\n",
       "      <th>Laundry_consumption</th>\n",
       "      <th>Other_appliances_consumption</th>\n",
       "    </tr>\n",
       "  </thead>\n",
       "  <tbody>\n",
       "    <tr>\n",
       "      <th>0</th>\n",
       "      <td>2.242</td>\n",
       "      <td>0.162</td>\n",
       "      <td>237.33</td>\n",
       "      <td>10.0</td>\n",
       "      <td>1</td>\n",
       "      <td>7</td>\n",
       "      <td>17</td>\n",
       "    </tr>\n",
       "    <tr>\n",
       "      <th>1</th>\n",
       "      <td>3.714</td>\n",
       "      <td>0.296</td>\n",
       "      <td>235.15</td>\n",
       "      <td>15.8</td>\n",
       "      <td>2</td>\n",
       "      <td>35</td>\n",
       "      <td>17</td>\n",
       "    </tr>\n",
       "    <tr>\n",
       "      <th>2</th>\n",
       "      <td>3.212</td>\n",
       "      <td>0.304</td>\n",
       "      <td>235.99</td>\n",
       "      <td>14.2</td>\n",
       "      <td>1</td>\n",
       "      <td>26</td>\n",
       "      <td>17</td>\n",
       "    </tr>\n",
       "    <tr>\n",
       "      <th>3</th>\n",
       "      <td>3.694</td>\n",
       "      <td>0.280</td>\n",
       "      <td>235.16</td>\n",
       "      <td>15.6</td>\n",
       "      <td>1</td>\n",
       "      <td>35</td>\n",
       "      <td>17</td>\n",
       "    </tr>\n",
       "    <tr>\n",
       "      <th>4</th>\n",
       "      <td>3.204</td>\n",
       "      <td>0.292</td>\n",
       "      <td>236.08</td>\n",
       "      <td>14.0</td>\n",
       "      <td>1</td>\n",
       "      <td>27</td>\n",
       "      <td>17</td>\n",
       "    </tr>\n",
       "  </tbody>\n",
       "</table>\n",
       "</div>"
      ],
      "text/plain": [
       "   Global_active_power  Global_reactive_power  Voltage  Global_intensity  \\\n",
       "0                2.242                  0.162   237.33              10.0   \n",
       "1                3.714                  0.296   235.15              15.8   \n",
       "2                3.212                  0.304   235.99              14.2   \n",
       "3                3.694                  0.280   235.16              15.6   \n",
       "4                3.204                  0.292   236.08              14.0   \n",
       "\n",
       "   Kitchen_consumption  Laundry_consumption  Other_appliances_consumption  \n",
       "0                    1                    7                            17  \n",
       "1                    2                   35                            17  \n",
       "2                    1                   26                            17  \n",
       "3                    1                   35                            17  \n",
       "4                    1                   27                            17  "
      ]
     },
     "execution_count": 30,
     "metadata": {},
     "output_type": "execute_result"
    }
   ],
   "source": [
    "df = pd.read_excel('power.xlsx')\n",
    "df.head()"
   ]
  },
  {
   "cell_type": "code",
   "execution_count": 49,
   "id": "2ac52d33",
   "metadata": {},
   "outputs": [
    {
     "data": {
      "text/plain": [
       "(21240, 7)"
      ]
     },
     "execution_count": 49,
     "metadata": {},
     "output_type": "execute_result"
    }
   ],
   "source": [
    "df.shape"
   ]
  },
  {
   "cell_type": "code",
   "execution_count": 50,
   "id": "07737271",
   "metadata": {
    "scrolled": true
   },
   "outputs": [
    {
     "data": {
      "text/plain": [
       "Global_active_power             float64\n",
       "Global_reactive_power           float64\n",
       "Voltage                         float64\n",
       "Global_intensity                float64\n",
       "Kitchen_consumption               int64\n",
       "Laundry_consumption               int64\n",
       "Other_appliances_consumption      int64\n",
       "dtype: object"
      ]
     },
     "execution_count": 50,
     "metadata": {},
     "output_type": "execute_result"
    }
   ],
   "source": [
    "df.dtypes"
   ]
  },
  {
   "cell_type": "markdown",
   "id": "7e631495",
   "metadata": {},
   "source": [
    "### Checking the distributions"
   ]
  },
  {
   "cell_type": "code",
   "execution_count": 51,
   "id": "bd350fa3",
   "metadata": {},
   "outputs": [
    {
     "data": {
      "image/png": "[encoded data removed]",
      "text/plain": [
       "<Figure size 432x288 with 1 Axes>"
      ]
     },
     "metadata": {
      "needs_background": "light"
     },
     "output_type": "display_data"
    },
    {
     "data": {
      "image/png": "[encoded data removed]",
      "text/plain": [
       "<Figure size 432x288 with 1 Axes>"
      ]
     },
     "metadata": {
      "needs_background": "light"
     },
     "output_type": "display_data"
    },
    {
     "data": {
      "image/png": "[encoded data removed]",
      "text/plain": [
       "<Figure size 432x288 with 1 Axes>"
      ]
     },
     "metadata": {
      "needs_background": "light"
     },
     "output_type": "display_data"
    },
    {
     "data": {
      "image/png": "[encoded data removed]",
      "text/plain": [
       "<Figure size 432x288 with 1 Axes>"
      ]
     },
     "metadata": {
      "needs_background": "light"
     },
     "output_type": "display_data"
    },
    {
     "data": {
      "image/png": "[encoded data removed]",
      "text/plain": [
       "<Figure size 432x288 with 1 Axes>"
      ]
     },
     "metadata": {
      "needs_background": "light"
     },
     "output_type": "display_data"
    },
    {
     "data": {
      "image/png": "[encoded data removed]",
      "text/plain": [
       "<Figure size 432x288 with 1 Axes>"
      ]
     },
     "metadata": {
      "needs_background": "light"
     },
     "output_type": "display_data"
    },
    {
     "data": {
      "image/png": "[encoded data removed]",
      "text/plain": [
       "<Figure size 432x288 with 1 Axes>"
      ]
     },
     "metadata": {
      "needs_background": "light"
     },
     "output_type": "display_data"
    }
   ],
   "source": [
    "for col in df.columns:\n",
    "    sns.distplot(df[col])\n",
    "    plt.show()"
   ]
  },
  {
   "cell_type": "markdown",
   "id": "de13b289",
   "metadata": {},
   "source": [
    "### Remove Outliers"
   ]
  },
  {
   "cell_type": "code",
   "execution_count": 52,
   "id": "cbe6ac34",
   "metadata": {
    "scrolled": false
   },
   "outputs": [
    {
     "data": {
      "image/png": "[encoded data removed]",
      "text/plain": [
       "<Figure size 432x288 with 1 Axes>"
      ]
     },
     "metadata": {
      "needs_background": "light"
     },
     "output_type": "display_data"
    },
    {
     "data": {
      "image/png": "[encoded data removed]",
      "text/plain": [
       "<Figure size 432x288 with 1 Axes>"
      ]
     },
     "metadata": {
      "needs_background": "light"
     },
     "output_type": "display_data"
    },
    {
     "data": {
      "image/png": "[encoded data removed]",
      "text/plain": [
       "<Figure size 432x288 with 1 Axes>"
      ]
     },
     "metadata": {
      "needs_background": "light"
     },
     "output_type": "display_data"
    },
    {
     "data": {
      "image/png": "[encoded data removed]",
      "text/plain": [
       "<Figure size 432x288 with 1 Axes>"
      ]
     },
     "metadata": {
      "needs_background": "light"
     },
     "output_type": "display_data"
    },
    {
     "data": {
      "image/png": "[encoded data removed]",
      "text/plain": [
       "<Figure size 432x288 with 1 Axes>"
      ]
     },
     "metadata": {
      "needs_background": "light"
     },
     "output_type": "display_data"
    },
    {
     "data": {
      "image/png": "[encoded data removed]",
      "text/plain": [
       "<Figure size 432x288 with 1 Axes>"
      ]
     },
     "metadata": {
      "needs_background": "light"
     },
     "output_type": "display_data"
    },
    {
     "data": {
      "image/png": "[encoded data removed]",
      "text/plain": [
       "<Figure size 432x288 with 1 Axes>"
      ]
     },
     "metadata": {
      "needs_background": "light"
     },
     "output_type": "display_data"
    }
   ],
   "source": [
    "for col in df.columns:\n",
    "    sns.boxplot(x=col, data=df)\n",
    "    plt.show()"
   ]
  },
  {
   "cell_type": "code",
   "execution_count": 53,
   "id": "982e1058",
   "metadata": {},
   "outputs": [],
   "source": [
    "# write your code here\n",
    "q1 = df.quantile(0.25)\n",
    "q3 = df.quantile(0.75)\n",
    "iqr = q3-q1\n",
    "\n",
    "dfc = df[~((df<(q1-1.5*iqr))|(df>(q3+1.5*iqr))).any(axis=1)]\n",
    "dfc = dfc.reset_index(drop=True)"
   ]
  },
  {
   "cell_type": "code",
   "execution_count": 54,
   "id": "4d262342",
   "metadata": {},
   "outputs": [
    {
     "data": {
      "text/plain": [
       "(16724, 7)"
      ]
     },
     "execution_count": 54,
     "metadata": {},
     "output_type": "execute_result"
    }
   ],
   "source": [
    "dfc.shape"
   ]
  },
  {
   "cell_type": "markdown",
   "id": "825cf020",
   "metadata": {},
   "source": [
    "### Statistical Summary of all variables"
   ]
  },
  {
   "cell_type": "code",
   "execution_count": 37,
   "id": "3dd55988",
   "metadata": {},
   "outputs": [
    {
     "data": {
      "text/html": [
       "<div>\n",
       "<style scoped>\n",
       "    .dataframe tbody tr th:only-of-type {\n",
       "        vertical-align: middle;\n",
       "    }\n",
       "\n",
       "    .dataframe tbody tr th {\n",
       "        vertical-align: top;\n",
       "    }\n",
       "\n",
       "    .dataframe thead th {\n",
       "        text-align: right;\n",
       "    }\n",
       "</style>\n",
       "<table border=\"1\" class=\"dataframe\">\n",
       "  <thead>\n",
       "    <tr style=\"text-align: right;\">\n",
       "      <th></th>\n",
       "      <th>Global_active_power</th>\n",
       "      <th>Global_reactive_power</th>\n",
       "      <th>Voltage</th>\n",
       "      <th>Global_intensity</th>\n",
       "      <th>Kitchen_consumption</th>\n",
       "      <th>Laundry_consumption</th>\n",
       "      <th>Other_appliances_consumption</th>\n",
       "    </tr>\n",
       "  </thead>\n",
       "  <tbody>\n",
       "    <tr>\n",
       "      <th>count</th>\n",
       "      <td>16724.000000</td>\n",
       "      <td>16724.000000</td>\n",
       "      <td>16724.000000</td>\n",
       "      <td>16724.000000</td>\n",
       "      <td>16724.000000</td>\n",
       "      <td>16724.000000</td>\n",
       "      <td>16724.000000</td>\n",
       "    </tr>\n",
       "    <tr>\n",
       "      <th>mean</th>\n",
       "      <td>3.197480</td>\n",
       "      <td>0.249404</td>\n",
       "      <td>237.351591</td>\n",
       "      <td>13.601495</td>\n",
       "      <td>13.151937</td>\n",
       "      <td>6.802141</td>\n",
       "      <td>17.428426</td>\n",
       "    </tr>\n",
       "    <tr>\n",
       "      <th>std</th>\n",
       "      <td>1.444141</td>\n",
       "      <td>0.132148</td>\n",
       "      <td>3.289317</td>\n",
       "      <td>6.204866</td>\n",
       "      <td>16.384600</td>\n",
       "      <td>10.920451</td>\n",
       "      <td>0.705236</td>\n",
       "    </tr>\n",
       "    <tr>\n",
       "      <th>min</th>\n",
       "      <td>0.302000</td>\n",
       "      <td>0.046000</td>\n",
       "      <td>228.600000</td>\n",
       "      <td>1.200000</td>\n",
       "      <td>1.000000</td>\n",
       "      <td>1.000000</td>\n",
       "      <td>16.000000</td>\n",
       "    </tr>\n",
       "    <tr>\n",
       "      <th>25%</th>\n",
       "      <td>1.858000</td>\n",
       "      <td>0.144000</td>\n",
       "      <td>235.220000</td>\n",
       "      <td>7.800000</td>\n",
       "      <td>1.000000</td>\n",
       "      <td>1.000000</td>\n",
       "      <td>17.000000</td>\n",
       "    </tr>\n",
       "    <tr>\n",
       "      <th>50%</th>\n",
       "      <td>3.096000</td>\n",
       "      <td>0.230000</td>\n",
       "      <td>237.510000</td>\n",
       "      <td>13.200000</td>\n",
       "      <td>1.000000</td>\n",
       "      <td>2.000000</td>\n",
       "      <td>17.000000</td>\n",
       "    </tr>\n",
       "    <tr>\n",
       "      <th>75%</th>\n",
       "      <td>4.100000</td>\n",
       "      <td>0.332000</td>\n",
       "      <td>239.520000</td>\n",
       "      <td>17.400000</td>\n",
       "      <td>36.000000</td>\n",
       "      <td>4.000000</td>\n",
       "      <td>18.000000</td>\n",
       "    </tr>\n",
       "    <tr>\n",
       "      <th>max</th>\n",
       "      <td>7.716000</td>\n",
       "      <td>0.632000</td>\n",
       "      <td>246.150000</td>\n",
       "      <td>33.000000</td>\n",
       "      <td>40.000000</td>\n",
       "      <td>36.000000</td>\n",
       "      <td>19.000000</td>\n",
       "    </tr>\n",
       "  </tbody>\n",
       "</table>\n",
       "</div>"
      ],
      "text/plain": [
       "       Global_active_power  Global_reactive_power       Voltage  \\\n",
       "count         16724.000000           16724.000000  16724.000000   \n",
       "mean              3.197480               0.249404    237.351591   \n",
       "std               1.444141               0.132148      3.289317   \n",
       "min               0.302000               0.046000    228.600000   \n",
       "25%               1.858000               0.144000    235.220000   \n",
       "50%               3.096000               0.230000    237.510000   \n",
       "75%               4.100000               0.332000    239.520000   \n",
       "max               7.716000               0.632000    246.150000   \n",
       "\n",
       "       Global_intensity  Kitchen_consumption  Laundry_consumption  \\\n",
       "count      16724.000000         16724.000000         16724.000000   \n",
       "mean          13.601495            13.151937             6.802141   \n",
       "std            6.204866            16.384600            10.920451   \n",
       "min            1.200000             1.000000             1.000000   \n",
       "25%            7.800000             1.000000             1.000000   \n",
       "50%           13.200000             1.000000             2.000000   \n",
       "75%           17.400000            36.000000             4.000000   \n",
       "max           33.000000            40.000000            36.000000   \n",
       "\n",
       "       Other_appliances_consumption  \n",
       "count                  16724.000000  \n",
       "mean                      17.428426  \n",
       "std                        0.705236  \n",
       "min                       16.000000  \n",
       "25%                       17.000000  \n",
       "50%                       17.000000  \n",
       "75%                       18.000000  \n",
       "max                       19.000000  "
      ]
     },
     "execution_count": 37,
     "metadata": {},
     "output_type": "execute_result"
    }
   ],
   "source": [
    "dfc.describe()"
   ]
  },
  {
   "cell_type": "markdown",
   "id": "5ef33972",
   "metadata": {},
   "source": [
    "### Check for Missing Values"
   ]
  },
  {
   "cell_type": "code",
   "execution_count": 38,
   "id": "16b8481f",
   "metadata": {},
   "outputs": [
    {
     "data": {
      "text/plain": [
       "Global_active_power             0\n",
       "Global_reactive_power           0\n",
       "Voltage                         0\n",
       "Global_intensity                0\n",
       "Kitchen_consumption             0\n",
       "Laundry_consumption             0\n",
       "Other_appliances_consumption    0\n",
       "dtype: int64"
      ]
     },
     "execution_count": 38,
     "metadata": {},
     "output_type": "execute_result"
    }
   ],
   "source": [
    "dfc.isnull().sum()"
   ]
  },
  {
   "cell_type": "markdown",
   "id": "7e2a9a08",
   "metadata": {},
   "source": [
    "### Prepare the Data"
   ]
  },
  {
   "cell_type": "code",
   "execution_count": 39,
   "id": "96dd76a3",
   "metadata": {},
   "outputs": [],
   "source": [
    "from sklearn.preprocessing import StandardScaler\n",
    "ss = StandardScaler()\n",
    "\n",
    "dfcs = ss.fit_transform(dfc)\n",
    "dfcs = pd.DataFrame(dfcs, columns=dfc.columns)"
   ]
  },
  {
   "cell_type": "code",
   "execution_count": 40,
   "id": "fca3049e",
   "metadata": {},
   "outputs": [
    {
     "data": {
      "text/html": [
       "<div>\n",
       "<style scoped>\n",
       "    .dataframe tbody tr th:only-of-type {\n",
       "        vertical-align: middle;\n",
       "    }\n",
       "\n",
       "    .dataframe tbody tr th {\n",
       "        vertical-align: top;\n",
       "    }\n",
       "\n",
       "    .dataframe thead th {\n",
       "        text-align: right;\n",
       "    }\n",
       "</style>\n",
       "<table border=\"1\" class=\"dataframe\">\n",
       "  <thead>\n",
       "    <tr style=\"text-align: right;\">\n",
       "      <th></th>\n",
       "      <th>Global_active_power</th>\n",
       "      <th>Global_reactive_power</th>\n",
       "      <th>Voltage</th>\n",
       "      <th>Global_intensity</th>\n",
       "      <th>Kitchen_consumption</th>\n",
       "      <th>Laundry_consumption</th>\n",
       "      <th>Other_appliances_consumption</th>\n",
       "    </tr>\n",
       "  </thead>\n",
       "  <tbody>\n",
       "    <tr>\n",
       "      <th>0</th>\n",
       "      <td>-0.661645</td>\n",
       "      <td>-0.661430</td>\n",
       "      <td>-0.006564</td>\n",
       "      <td>-0.580448</td>\n",
       "      <td>-0.741690</td>\n",
       "      <td>0.018119</td>\n",
       "      <td>-0.607511</td>\n",
       "    </tr>\n",
       "    <tr>\n",
       "      <th>1</th>\n",
       "      <td>0.357676</td>\n",
       "      <td>0.352612</td>\n",
       "      <td>-0.669335</td>\n",
       "      <td>0.354330</td>\n",
       "      <td>-0.680656</td>\n",
       "      <td>2.582192</td>\n",
       "      <td>-0.607511</td>\n",
       "    </tr>\n",
       "    <tr>\n",
       "      <th>2</th>\n",
       "      <td>0.010054</td>\n",
       "      <td>0.413151</td>\n",
       "      <td>-0.413956</td>\n",
       "      <td>0.096460</td>\n",
       "      <td>-0.741690</td>\n",
       "      <td>1.758026</td>\n",
       "      <td>-0.607511</td>\n",
       "    </tr>\n",
       "    <tr>\n",
       "      <th>3</th>\n",
       "      <td>0.343827</td>\n",
       "      <td>0.231532</td>\n",
       "      <td>-0.666295</td>\n",
       "      <td>0.322096</td>\n",
       "      <td>-0.741690</td>\n",
       "      <td>2.582192</td>\n",
       "      <td>-0.607511</td>\n",
       "    </tr>\n",
       "    <tr>\n",
       "      <th>4</th>\n",
       "      <td>0.004515</td>\n",
       "      <td>0.322342</td>\n",
       "      <td>-0.386593</td>\n",
       "      <td>0.064227</td>\n",
       "      <td>-0.741690</td>\n",
       "      <td>1.849600</td>\n",
       "      <td>-0.607511</td>\n",
       "    </tr>\n",
       "  </tbody>\n",
       "</table>\n",
       "</div>"
      ],
      "text/plain": [
       "   Global_active_power  Global_reactive_power   Voltage  Global_intensity  \\\n",
       "0            -0.661645              -0.661430 -0.006564         -0.580448   \n",
       "1             0.357676               0.352612 -0.669335          0.354330   \n",
       "2             0.010054               0.413151 -0.413956          0.096460   \n",
       "3             0.343827               0.231532 -0.666295          0.322096   \n",
       "4             0.004515               0.322342 -0.386593          0.064227   \n",
       "\n",
       "   Kitchen_consumption  Laundry_consumption  Other_appliances_consumption  \n",
       "0            -0.741690             0.018119                     -0.607511  \n",
       "1            -0.680656             2.582192                     -0.607511  \n",
       "2            -0.741690             1.758026                     -0.607511  \n",
       "3            -0.741690             2.582192                     -0.607511  \n",
       "4            -0.741690             1.849600                     -0.607511  "
      ]
     },
     "execution_count": 40,
     "metadata": {},
     "output_type": "execute_result"
    }
   ],
   "source": [
    "dfcs.head()"
   ]
  },
  {
   "cell_type": "markdown",
   "id": "b1e966cb",
   "metadata": {},
   "source": [
    "### k-Means Clustering"
   ]
  },
  {
   "cell_type": "code",
   "execution_count": 41,
   "id": "4446135a",
   "metadata": {},
   "outputs": [],
   "source": [
    "from sklearn.metrics import silhouette_score\n",
    "from sklearn.cluster import KMeans\n",
    "\n",
    "wcss=[]\n",
    "sscore=[]\n",
    "for k in range(2, 10):\n",
    "    kmeans = KMeans(n_clusters=k)\n",
    "    kmeans.fit(dfcs)\n",
    "    wcss.append(kmeans.inertia_)\n",
    "    score = silhouette_score(dfcs, kmeans.labels_)\n",
    "    sscore.append(score)"
   ]
  },
  {
   "cell_type": "code",
   "execution_count": 42,
   "id": "6446fe09",
   "metadata": {},
   "outputs": [
    {
     "data": {
      "image/png": "[encoded data removed]",
      "text/plain": [
       "<Figure size 864x360 with 2 Axes>"
      ]
     },
     "metadata": {
      "needs_background": "light"
     },
     "output_type": "display_data"
    }
   ],
   "source": [
    "fig, ax = plt.subplots(figsize=(12, 5))\n",
    "ax.plot(range(2,10), wcss, 'r')\n",
    "ax.set_ylabel('wcss')\n",
    "ax1=ax.twinx()\n",
    "ax1.plot(range(2,10), sscore, 'g')\n",
    "ax1.set_ylabel('silhouette score')\n",
    "plt.show()"
   ]
  },
  {
   "cell_type": "raw",
   "id": "d5df91e1",
   "metadata": {},
   "source": [
    "Elbows are not very clear in the WCSS plot (there is vague elbow appears for clusters 3 and 4. However, silhouette score is highest for clusters=3. Hence, we will choose 3."
   ]
  },
  {
   "cell_type": "markdown",
   "id": "d8394eeb",
   "metadata": {},
   "source": [
    "### Profiling Clusters"
   ]
  },
  {
   "cell_type": "code",
   "execution_count": 43,
   "id": "6e725632",
   "metadata": {},
   "outputs": [],
   "source": [
    "kmeans = KMeans(n_clusters=3)\n",
    "kmeans.fit(dfcs)\n",
    "\n",
    "dfc['cluster'] = kmeans.labels_"
   ]
  },
  {
   "cell_type": "code",
   "execution_count": 44,
   "id": "97f57ebe",
   "metadata": {},
   "outputs": [
    {
     "data": {
      "text/html": [
       "<div>\n",
       "<style scoped>\n",
       "    .dataframe tbody tr th:only-of-type {\n",
       "        vertical-align: middle;\n",
       "    }\n",
       "\n",
       "    .dataframe tbody tr th {\n",
       "        vertical-align: top;\n",
       "    }\n",
       "\n",
       "    .dataframe thead th {\n",
       "        text-align: right;\n",
       "    }\n",
       "</style>\n",
       "<table border=\"1\" class=\"dataframe\">\n",
       "  <thead>\n",
       "    <tr style=\"text-align: right;\">\n",
       "      <th></th>\n",
       "      <th>Global_active_power</th>\n",
       "      <th>Global_reactive_power</th>\n",
       "      <th>Voltage</th>\n",
       "      <th>Global_intensity</th>\n",
       "      <th>Kitchen_consumption</th>\n",
       "      <th>Laundry_consumption</th>\n",
       "      <th>Other_appliances_consumption</th>\n",
       "      <th>cluster</th>\n",
       "    </tr>\n",
       "  </thead>\n",
       "  <tbody>\n",
       "    <tr>\n",
       "      <th>0</th>\n",
       "      <td>2.242</td>\n",
       "      <td>0.162</td>\n",
       "      <td>237.33</td>\n",
       "      <td>10.0</td>\n",
       "      <td>1</td>\n",
       "      <td>7</td>\n",
       "      <td>17</td>\n",
       "      <td>1</td>\n",
       "    </tr>\n",
       "    <tr>\n",
       "      <th>1</th>\n",
       "      <td>3.714</td>\n",
       "      <td>0.296</td>\n",
       "      <td>235.15</td>\n",
       "      <td>15.8</td>\n",
       "      <td>2</td>\n",
       "      <td>35</td>\n",
       "      <td>17</td>\n",
       "      <td>0</td>\n",
       "    </tr>\n",
       "    <tr>\n",
       "      <th>2</th>\n",
       "      <td>3.212</td>\n",
       "      <td>0.304</td>\n",
       "      <td>235.99</td>\n",
       "      <td>14.2</td>\n",
       "      <td>1</td>\n",
       "      <td>26</td>\n",
       "      <td>17</td>\n",
       "      <td>0</td>\n",
       "    </tr>\n",
       "    <tr>\n",
       "      <th>3</th>\n",
       "      <td>3.694</td>\n",
       "      <td>0.280</td>\n",
       "      <td>235.16</td>\n",
       "      <td>15.6</td>\n",
       "      <td>1</td>\n",
       "      <td>35</td>\n",
       "      <td>17</td>\n",
       "      <td>0</td>\n",
       "    </tr>\n",
       "    <tr>\n",
       "      <th>4</th>\n",
       "      <td>3.204</td>\n",
       "      <td>0.292</td>\n",
       "      <td>236.08</td>\n",
       "      <td>14.0</td>\n",
       "      <td>1</td>\n",
       "      <td>27</td>\n",
       "      <td>17</td>\n",
       "      <td>0</td>\n",
       "    </tr>\n",
       "  </tbody>\n",
       "</table>\n",
       "</div>"
      ],
      "text/plain": [
       "   Global_active_power  Global_reactive_power  Voltage  Global_intensity  \\\n",
       "0                2.242                  0.162   237.33              10.0   \n",
       "1                3.714                  0.296   235.15              15.8   \n",
       "2                3.212                  0.304   235.99              14.2   \n",
       "3                3.694                  0.280   235.16              15.6   \n",
       "4                3.204                  0.292   236.08              14.0   \n",
       "\n",
       "   Kitchen_consumption  Laundry_consumption  Other_appliances_consumption  \\\n",
       "0                    1                    7                            17   \n",
       "1                    2                   35                            17   \n",
       "2                    1                   26                            17   \n",
       "3                    1                   35                            17   \n",
       "4                    1                   27                            17   \n",
       "\n",
       "   cluster  \n",
       "0        1  \n",
       "1        0  \n",
       "2        0  \n",
       "3        0  \n",
       "4        0  "
      ]
     },
     "execution_count": 44,
     "metadata": {},
     "output_type": "execute_result"
    }
   ],
   "source": [
    "dfc.head()"
   ]
  },
  {
   "cell_type": "code",
   "execution_count": 45,
   "id": "6ddece4e",
   "metadata": {},
   "outputs": [
    {
     "data": {
      "image/png": "[encoded data removed]",
      "text/plain": [
       "<Figure size 432x288 with 1 Axes>"
      ]
     },
     "metadata": {
      "needs_background": "light"
     },
     "output_type": "display_data"
    }
   ],
   "source": [
    "dfc['cluster'].value_counts().plot(kind='bar')\n",
    "plt.show()"
   ]
  },
  {
   "cell_type": "code",
   "execution_count": 46,
   "id": "9998216b",
   "metadata": {},
   "outputs": [
    {
     "data": {
      "text/html": [
       "<div>\n",
       "<style scoped>\n",
       "    .dataframe tbody tr th:only-of-type {\n",
       "        vertical-align: middle;\n",
       "    }\n",
       "\n",
       "    .dataframe tbody tr th {\n",
       "        vertical-align: top;\n",
       "    }\n",
       "\n",
       "    .dataframe thead th {\n",
       "        text-align: right;\n",
       "    }\n",
       "</style>\n",
       "<table border=\"1\" class=\"dataframe\">\n",
       "  <thead>\n",
       "    <tr style=\"text-align: right;\">\n",
       "      <th></th>\n",
       "      <th>Global_active_power</th>\n",
       "      <th>Global_reactive_power</th>\n",
       "      <th>Voltage</th>\n",
       "      <th>Global_intensity</th>\n",
       "      <th>Kitchen_consumption</th>\n",
       "      <th>Laundry_consumption</th>\n",
       "      <th>Other_appliances_consumption</th>\n",
       "    </tr>\n",
       "    <tr>\n",
       "      <th>cluster</th>\n",
       "      <th></th>\n",
       "      <th></th>\n",
       "      <th></th>\n",
       "      <th></th>\n",
       "      <th></th>\n",
       "      <th></th>\n",
       "      <th></th>\n",
       "    </tr>\n",
       "  </thead>\n",
       "  <tbody>\n",
       "    <tr>\n",
       "      <th>0</th>\n",
       "      <td>4.902894</td>\n",
       "      <td>0.245573</td>\n",
       "      <td>235.085338</td>\n",
       "      <td>21.011094</td>\n",
       "      <td>12.846884</td>\n",
       "      <td>29.959726</td>\n",
       "      <td>17.043313</td>\n",
       "    </tr>\n",
       "    <tr>\n",
       "      <th>1</th>\n",
       "      <td>2.111005</td>\n",
       "      <td>0.239549</td>\n",
       "      <td>238.792199</td>\n",
       "      <td>8.932522</td>\n",
       "      <td>1.803761</td>\n",
       "      <td>2.687389</td>\n",
       "      <td>17.656416</td>\n",
       "    </tr>\n",
       "    <tr>\n",
       "      <th>2</th>\n",
       "      <td>4.253120</td>\n",
       "      <td>0.269036</td>\n",
       "      <td>235.954456</td>\n",
       "      <td>18.095843</td>\n",
       "      <td>33.617181</td>\n",
       "      <td>2.100356</td>\n",
       "      <td>17.221101</td>\n",
       "    </tr>\n",
       "  </tbody>\n",
       "</table>\n",
       "</div>"
      ],
      "text/plain": [
       "         Global_active_power  Global_reactive_power     Voltage  \\\n",
       "cluster                                                           \n",
       "0                   4.902894               0.245573  235.085338   \n",
       "1                   2.111005               0.239549  238.792199   \n",
       "2                   4.253120               0.269036  235.954456   \n",
       "\n",
       "         Global_intensity  Kitchen_consumption  Laundry_consumption  \\\n",
       "cluster                                                               \n",
       "0               21.011094            12.846884            29.959726   \n",
       "1                8.932522             1.803761             2.687389   \n",
       "2               18.095843            33.617181             2.100356   \n",
       "\n",
       "         Other_appliances_consumption  \n",
       "cluster                                \n",
       "0                           17.043313  \n",
       "1                           17.656416  \n",
       "2                           17.221101  "
      ]
     },
     "execution_count": 46,
     "metadata": {},
     "output_type": "execute_result"
    }
   ],
   "source": [
    "dfc.groupby('cluster').agg('mean')"
   ]
  },
  {
   "cell_type": "raw",
   "id": "5830bfec",
   "metadata": {},
   "source": [
    "- We notice kitchen consumption highest for cluster-1 and lowest for cluster-2\n",
    "- Laundry consumption for cluster-0 was highest. For other clusters, it is same."
   ]
  },
  {
   "cell_type": "markdown",
   "id": "b3d7bf09",
   "metadata": {},
   "source": [
    "### Cluster Centres"
   ]
  },
  {
   "cell_type": "code",
   "execution_count": 47,
   "id": "a3fa6f5d",
   "metadata": {},
   "outputs": [
    {
     "data": {
      "text/plain": [
       "(3, 7)"
      ]
     },
     "execution_count": 47,
     "metadata": {},
     "output_type": "execute_result"
    }
   ],
   "source": [
    "(kmeans.cluster_centers_).shape"
   ]
  },
  {
   "cell_type": "code",
   "execution_count": 56,
   "id": "d8de3e53",
   "metadata": {},
   "outputs": [
    {
     "data": {
      "text/html": [
       "<div>\n",
       "<style scoped>\n",
       "    .dataframe tbody tr th:only-of-type {\n",
       "        vertical-align: middle;\n",
       "    }\n",
       "\n",
       "    .dataframe tbody tr th {\n",
       "        vertical-align: top;\n",
       "    }\n",
       "\n",
       "    .dataframe thead th {\n",
       "        text-align: right;\n",
       "    }\n",
       "</style>\n",
       "<table border=\"1\" class=\"dataframe\">\n",
       "  <thead>\n",
       "    <tr style=\"text-align: right;\">\n",
       "      <th></th>\n",
       "      <th>Global_active_power</th>\n",
       "      <th>Global_reactive_power</th>\n",
       "      <th>Voltage</th>\n",
       "      <th>Global_intensity</th>\n",
       "      <th>Kitchen_consumption</th>\n",
       "      <th>Laundry_consumption</th>\n",
       "      <th>Other_appliances_consumption</th>\n",
       "    </tr>\n",
       "  </thead>\n",
       "  <tbody>\n",
       "    <tr>\n",
       "      <th>0</th>\n",
       "      <td>1.181440</td>\n",
       "      <td>-0.028673</td>\n",
       "      <td>-0.689510</td>\n",
       "      <td>1.194686</td>\n",
       "      <td>-0.018344</td>\n",
       "      <td>2.120806</td>\n",
       "      <td>-0.546070</td>\n",
       "    </tr>\n",
       "    <tr>\n",
       "      <th>1</th>\n",
       "      <td>-0.752144</td>\n",
       "      <td>-0.074603</td>\n",
       "      <td>0.437990</td>\n",
       "      <td>-0.752265</td>\n",
       "      <td>-0.692644</td>\n",
       "      <td>-0.376585</td>\n",
       "      <td>0.323085</td>\n",
       "    </tr>\n",
       "    <tr>\n",
       "      <th>2</th>\n",
       "      <td>0.731047</td>\n",
       "      <td>0.148486</td>\n",
       "      <td>-0.424906</td>\n",
       "      <td>0.724364</td>\n",
       "      <td>1.249485</td>\n",
       "      <td>-0.430560</td>\n",
       "      <td>-0.293927</td>\n",
       "    </tr>\n",
       "  </tbody>\n",
       "</table>\n",
       "</div>"
      ],
      "text/plain": [
       "   Global_active_power  Global_reactive_power   Voltage  Global_intensity  \\\n",
       "0             1.181440              -0.028673 -0.689510          1.194686   \n",
       "1            -0.752144              -0.074603  0.437990         -0.752265   \n",
       "2             0.731047               0.148486 -0.424906          0.724364   \n",
       "\n",
       "   Kitchen_consumption  Laundry_consumption  Other_appliances_consumption  \n",
       "0            -0.018344             2.120806                     -0.546070  \n",
       "1            -0.692644            -0.376585                      0.323085  \n",
       "2             1.249485            -0.430560                     -0.293927  "
      ]
     },
     "execution_count": 56,
     "metadata": {},
     "output_type": "execute_result"
    }
   ],
   "source": [
    "pd.DataFrame(kmeans.cluster_centers_,columns=dfc.columns)"
   ]
  },
  {
   "cell_type": "markdown",
   "id": "6a46c122",
   "metadata": {},
   "source": [
    "### Hierarchical Clustering"
   ]
  },
  {
   "cell_type": "code",
   "execution_count": 57,
   "id": "524f31cc",
   "metadata": {},
   "outputs": [],
   "source": [
    "from scipy.cluster.hierarchy import linkage, dendrogram, cut_tree"
   ]
  },
  {
   "cell_type": "code",
   "execution_count": 60,
   "id": "2a0cefdb",
   "metadata": {},
   "outputs": [
    {
     "data": {
      "image/png": "[encoded data removed]",
      "text/plain": [
       "<Figure size 720x360 with 1 Axes>"
      ]
     },
     "metadata": {
      "needs_background": "light"
     },
     "output_type": "display_data"
    }
   ],
   "source": [
    "plt.figure(figsize=(10, 5))\n",
    "mergings = linkage(dfcs, method='ward', metric='euclidean')\n",
    "dendrogram(mergings)\n",
    "plt.show()"
   ]
  },
  {
   "cell_type": "code",
   "execution_count": 61,
   "id": "bac8dc6b",
   "metadata": {},
   "outputs": [
    {
     "data": {
      "text/plain": [
       "0        0\n",
       "1        1\n",
       "2        1\n",
       "3        1\n",
       "4        1\n",
       "        ..\n",
       "16719    0\n",
       "16720    0\n",
       "16721    0\n",
       "16722    0\n",
       "16723    0\n",
       "Length: 16724, dtype: int32"
      ]
     },
     "execution_count": 61,
     "metadata": {},
     "output_type": "execute_result"
    }
   ],
   "source": [
    "clustercut = pd.Series(cut_tree(mergings, n_clusters=3).reshape(-1,))\n",
    "clustercut"
   ]
  },
  {
   "cell_type": "code",
   "execution_count": 62,
   "id": "033b3f91",
   "metadata": {},
   "outputs": [
    {
     "data": {
      "text/html": [
       "<div>\n",
       "<style scoped>\n",
       "    .dataframe tbody tr th:only-of-type {\n",
       "        vertical-align: middle;\n",
       "    }\n",
       "\n",
       "    .dataframe tbody tr th {\n",
       "        vertical-align: top;\n",
       "    }\n",
       "\n",
       "    .dataframe thead th {\n",
       "        text-align: right;\n",
       "    }\n",
       "</style>\n",
       "<table border=\"1\" class=\"dataframe\">\n",
       "  <thead>\n",
       "    <tr style=\"text-align: right;\">\n",
       "      <th></th>\n",
       "      <th>Global_active_power</th>\n",
       "      <th>Global_reactive_power</th>\n",
       "      <th>Voltage</th>\n",
       "      <th>Global_intensity</th>\n",
       "      <th>Kitchen_consumption</th>\n",
       "      <th>Laundry_consumption</th>\n",
       "      <th>Other_appliances_consumption</th>\n",
       "      <th>cluster</th>\n",
       "    </tr>\n",
       "  </thead>\n",
       "  <tbody>\n",
       "    <tr>\n",
       "      <th>0</th>\n",
       "      <td>2.242</td>\n",
       "      <td>0.162</td>\n",
       "      <td>237.33</td>\n",
       "      <td>10.0</td>\n",
       "      <td>1</td>\n",
       "      <td>7</td>\n",
       "      <td>17</td>\n",
       "      <td>0.0</td>\n",
       "    </tr>\n",
       "    <tr>\n",
       "      <th>1</th>\n",
       "      <td>3.714</td>\n",
       "      <td>0.296</td>\n",
       "      <td>235.15</td>\n",
       "      <td>15.8</td>\n",
       "      <td>2</td>\n",
       "      <td>35</td>\n",
       "      <td>17</td>\n",
       "      <td>1.0</td>\n",
       "    </tr>\n",
       "    <tr>\n",
       "      <th>2</th>\n",
       "      <td>3.212</td>\n",
       "      <td>0.304</td>\n",
       "      <td>235.99</td>\n",
       "      <td>14.2</td>\n",
       "      <td>1</td>\n",
       "      <td>26</td>\n",
       "      <td>17</td>\n",
       "      <td>1.0</td>\n",
       "    </tr>\n",
       "    <tr>\n",
       "      <th>3</th>\n",
       "      <td>3.694</td>\n",
       "      <td>0.280</td>\n",
       "      <td>235.16</td>\n",
       "      <td>15.6</td>\n",
       "      <td>1</td>\n",
       "      <td>35</td>\n",
       "      <td>17</td>\n",
       "      <td>1.0</td>\n",
       "    </tr>\n",
       "    <tr>\n",
       "      <th>4</th>\n",
       "      <td>3.204</td>\n",
       "      <td>0.292</td>\n",
       "      <td>236.08</td>\n",
       "      <td>14.0</td>\n",
       "      <td>1</td>\n",
       "      <td>27</td>\n",
       "      <td>17</td>\n",
       "      <td>1.0</td>\n",
       "    </tr>\n",
       "  </tbody>\n",
       "</table>\n",
       "</div>"
      ],
      "text/plain": [
       "   Global_active_power  Global_reactive_power  Voltage  Global_intensity  \\\n",
       "0                2.242                  0.162   237.33              10.0   \n",
       "1                3.714                  0.296   235.15              15.8   \n",
       "2                3.212                  0.304   235.99              14.2   \n",
       "3                3.694                  0.280   235.16              15.6   \n",
       "4                3.204                  0.292   236.08              14.0   \n",
       "\n",
       "   Kitchen_consumption  Laundry_consumption  Other_appliances_consumption  \\\n",
       "0                    1                    7                            17   \n",
       "1                    2                   35                            17   \n",
       "2                    1                   26                            17   \n",
       "3                    1                   35                            17   \n",
       "4                    1                   27                            17   \n",
       "\n",
       "   cluster  \n",
       "0      0.0  \n",
       "1      1.0  \n",
       "2      1.0  \n",
       "3      1.0  \n",
       "4      1.0  "
      ]
     },
     "execution_count": 62,
     "metadata": {},
     "output_type": "execute_result"
    }
   ],
   "source": [
    "df['cluster'] = clustercut\n",
    "df.head()"
   ]
  },
  {
   "cell_type": "markdown",
   "id": "48a4e44d",
   "metadata": {},
   "source": [
    "### Cluster Profiling"
   ]
  },
  {
   "cell_type": "code",
   "execution_count": 63,
   "id": "57e7d774",
   "metadata": {},
   "outputs": [
    {
     "data": {
      "text/html": [
       "<div>\n",
       "<style scoped>\n",
       "    .dataframe tbody tr th:only-of-type {\n",
       "        vertical-align: middle;\n",
       "    }\n",
       "\n",
       "    .dataframe tbody tr th {\n",
       "        vertical-align: top;\n",
       "    }\n",
       "\n",
       "    .dataframe thead th {\n",
       "        text-align: right;\n",
       "    }\n",
       "</style>\n",
       "<table border=\"1\" class=\"dataframe\">\n",
       "  <thead>\n",
       "    <tr style=\"text-align: right;\">\n",
       "      <th></th>\n",
       "      <th>Global_active_power</th>\n",
       "      <th>Global_reactive_power</th>\n",
       "      <th>Voltage</th>\n",
       "      <th>Global_intensity</th>\n",
       "      <th>Kitchen_consumption</th>\n",
       "      <th>Laundry_consumption</th>\n",
       "      <th>Other_appliances_consumption</th>\n",
       "    </tr>\n",
       "    <tr>\n",
       "      <th>cluster</th>\n",
       "      <th></th>\n",
       "      <th></th>\n",
       "      <th></th>\n",
       "      <th></th>\n",
       "      <th></th>\n",
       "      <th></th>\n",
       "      <th></th>\n",
       "    </tr>\n",
       "  </thead>\n",
       "  <tbody>\n",
       "    <tr>\n",
       "      <th>0.0</th>\n",
       "      <td>3.331480</td>\n",
       "      <td>0.262661</td>\n",
       "      <td>237.315805</td>\n",
       "      <td>14.194482</td>\n",
       "      <td>13.182382</td>\n",
       "      <td>9.525429</td>\n",
       "      <td>16.992022</td>\n",
       "    </tr>\n",
       "    <tr>\n",
       "      <th>1.0</th>\n",
       "      <td>3.405436</td>\n",
       "      <td>0.252994</td>\n",
       "      <td>236.996897</td>\n",
       "      <td>14.514994</td>\n",
       "      <td>13.905141</td>\n",
       "      <td>10.345165</td>\n",
       "      <td>17.109241</td>\n",
       "    </tr>\n",
       "    <tr>\n",
       "      <th>2.0</th>\n",
       "      <td>3.525719</td>\n",
       "      <td>0.263180</td>\n",
       "      <td>236.911221</td>\n",
       "      <td>15.032137</td>\n",
       "      <td>14.435116</td>\n",
       "      <td>10.204469</td>\n",
       "      <td>16.832769</td>\n",
       "    </tr>\n",
       "  </tbody>\n",
       "</table>\n",
       "</div>"
      ],
      "text/plain": [
       "         Global_active_power  Global_reactive_power     Voltage  \\\n",
       "cluster                                                           \n",
       "0.0                 3.331480               0.262661  237.315805   \n",
       "1.0                 3.405436               0.252994  236.996897   \n",
       "2.0                 3.525719               0.263180  236.911221   \n",
       "\n",
       "         Global_intensity  Kitchen_consumption  Laundry_consumption  \\\n",
       "cluster                                                               \n",
       "0.0             14.194482            13.182382             9.525429   \n",
       "1.0             14.514994            13.905141            10.345165   \n",
       "2.0             15.032137            14.435116            10.204469   \n",
       "\n",
       "         Other_appliances_consumption  \n",
       "cluster                                \n",
       "0.0                         16.992022  \n",
       "1.0                         17.109241  \n",
       "2.0                         16.832769  "
      ]
     },
     "execution_count": 63,
     "metadata": {},
     "output_type": "execute_result"
    }
   ],
   "source": [
    "df.groupby('cluster').agg('mean')"
   ]
  },
  {
   "cell_type": "markdown",
   "id": "ec1f287a",
   "metadata": {},
   "source": [
    "### DBSCAN for identifying outliers"
   ]
  },
  {
   "cell_type": "code",
   "execution_count": 76,
   "id": "b60d93a0",
   "metadata": {},
   "outputs": [],
   "source": [
    "df = pd.read_excel('power.xlsx')"
   ]
  },
  {
   "cell_type": "code",
   "execution_count": 77,
   "id": "299d263a",
   "metadata": {},
   "outputs": [],
   "source": [
    "from sklearn.cluster import DBSCAN"
   ]
  },
  {
   "cell_type": "code",
   "execution_count": 78,
   "id": "1266411b",
   "metadata": {},
   "outputs": [],
   "source": [
    "from sklearn.preprocessing import RobustScaler\n",
    "rs = RobustScaler()\n",
    "dfs = rs.fit_transform(df)"
   ]
  },
  {
   "cell_type": "markdown",
   "id": "2a204a85",
   "metadata": {},
   "source": [
    "#### Estimating optimal epsilon"
   ]
  },
  {
   "cell_type": "raw",
   "id": "84e982c5",
   "metadata": {},
   "source": [
    "Thumb rule for min_samples is 2*no of features "
   ]
  },
  {
   "cell_type": "code",
   "execution_count": 79,
   "id": "607a0246",
   "metadata": {},
   "outputs": [],
   "source": [
    "from sklearn.neighbors import NearestNeighbors\n",
    "nn = NearestNeighbors(n_neighbors=14)\n",
    "nn.fit(dfs)\n",
    "\n",
    "distances, indices = nn.kneighbors(dfs)"
   ]
  },
  {
   "cell_type": "code",
   "execution_count": 81,
   "id": "1c56f468",
   "metadata": {
    "scrolled": true
   },
   "outputs": [
    {
     "data": {
      "text/plain": [
       "array([[    0, 13753, 12076,  9109,  9076, 15935,  9108,  9722,  7421,\n",
       "         9110, 10301,  9672, 11617, 20211],\n",
       "       [    1,     3,   388,     5,   389,     6,  2435, 16041,  1163,\n",
       "        14938,  8057,  8055,  1162,  8190],\n",
       "       [    2,     4,   972,    30,   387,   422,   424,   969,   974,\n",
       "         9848,   970,  2434,   967,  3268]], dtype=int64)"
      ]
     },
     "execution_count": 81,
     "metadata": {},
     "output_type": "execute_result"
    }
   ],
   "source": [
    "indices[:3,] #it shows 0 is nearestneighbors and 20211 is longestneighbors"
   ]
  },
  {
   "cell_type": "code",
   "execution_count": 83,
   "id": "92d0fae2",
   "metadata": {},
   "outputs": [
    {
     "data": {
      "text/plain": [
       "array([[0.        , 0.1398869 , 0.17411332, 0.17673875, 0.22956089,\n",
       "        0.2363466 , 0.26579987, 0.30408535, 0.33154107, 0.34481613,\n",
       "        0.36670154, 0.37030009, 0.37304228, 0.37677869],\n",
       "       [0.        , 0.08996738, 0.13136762, 0.16423256, 0.19012155,\n",
       "        0.20014635, 0.20014934, 0.20643264, 0.21316634, 0.23582305,\n",
       "        0.24340569, 0.25189883, 0.25877747, 0.26791282],\n",
       "       [0.        , 0.0987915 , 0.29582604, 0.31192928, 0.32841186,\n",
       "        0.34335795, 0.35401669, 0.36866835, 0.36937123, 0.37272061,\n",
       "        0.3812615 , 0.38153196, 0.38769894, 0.40069969]])"
      ]
     },
     "execution_count": 83,
     "metadata": {},
     "output_type": "execute_result"
    }
   ],
   "source": [
    "distances[:3,] #its the distance of neighbors/"
   ]
  },
  {
   "cell_type": "code",
   "execution_count": 84,
   "id": "0faf0df7",
   "metadata": {},
   "outputs": [
    {
     "data": {
      "image/png": "[encoded data removed]",
      "text/plain": [
       "<Figure size 432x288 with 1 Axes>"
      ]
     },
     "metadata": {
      "needs_background": "light"
     },
     "output_type": "display_data"
    }
   ],
   "source": [
    "distances = distances[:,13]\n",
    "distances = np.sort(distances, axis=0)\n",
    "plt.plot(distances)\n",
    "plt.show()"
   ]
  },
  {
   "cell_type": "raw",
   "id": "704d6891",
   "metadata": {},
   "source": [
    "We notice that elbow is appearing at ditance of 0.6"
   ]
  },
  {
   "cell_type": "code",
   "execution_count": 85,
   "id": "9504b9c4",
   "metadata": {},
   "outputs": [
    {
     "data": {
      "text/html": [
       "<style>#sk-container-id-1 {color: black;background-color: white;}#sk-container-id-1 pre{padding: 0;}#sk-container-id-1 div.sk-toggleable {background-color: white;}#sk-container-id-1 label.sk-toggleable__label {cursor: pointer;display: block;width: 100%;margin-bottom: 0;padding: 0.3em;box-sizing: border-box;text-align: center;}#sk-container-id-1 label.sk-toggleable__label-arrow:before {content: \"▸\";float: left;margin-right: 0.25em;color: #696969;}#sk-container-id-1 label.sk-toggleable__label-arrow:hover:before {color: black;}#sk-container-id-1 div.sk-estimator:hover label.sk-toggleable__label-arrow:before {color: black;}#sk-container-id-1 div.sk-toggleable__content {max-height: 0;max-width: 0;overflow: hidden;text-align: left;background-color: #f0f8ff;}#sk-container-id-1 div.sk-toggleable__content pre {margin: 0.2em;color: black;border-radius: 0.25em;background-color: #f0f8ff;}#sk-container-id-1 input.sk-toggleable__control:checked~div.sk-toggleable__content {max-height: 200px;max-width: 100%;overflow: auto;}#sk-container-id-1 input.sk-toggleable__control:checked~label.sk-toggleable__label-arrow:before {content: \"▾\";}#sk-container-id-1 div.sk-estimator input.sk-toggleable__control:checked~label.sk-toggleable__label {background-color: #d4ebff;}#sk-container-id-1 div.sk-label input.sk-toggleable__control:checked~label.sk-toggleable__label {background-color: #d4ebff;}#sk-container-id-1 input.sk-hidden--visually {border: 0;clip: rect(1px 1px 1px 1px);clip: rect(1px, 1px, 1px, 1px);height: 1px;margin: -1px;overflow: hidden;padding: 0;position: absolute;width: 1px;}#sk-container-id-1 div.sk-estimator {font-family: monospace;background-color: #f0f8ff;border: 1px dotted black;border-radius: 0.25em;box-sizing: border-box;margin-bottom: 0.5em;}#sk-container-id-1 div.sk-estimator:hover {background-color: #d4ebff;}#sk-container-id-1 div.sk-parallel-item::after {content: \"\";width: 100%;border-bottom: 1px solid gray;flex-grow: 1;}#sk-container-id-1 div.sk-label:hover label.sk-toggleable__label {background-color: #d4ebff;}#sk-container-id-1 div.sk-serial::before {content: \"\";position: absolute;border-left: 1px solid gray;box-sizing: border-box;top: 0;bottom: 0;left: 50%;z-index: 0;}#sk-container-id-1 div.sk-serial {display: flex;flex-direction: column;align-items: center;background-color: white;padding-right: 0.2em;padding-left: 0.2em;position: relative;}#sk-container-id-1 div.sk-item {position: relative;z-index: 1;}#sk-container-id-1 div.sk-parallel {display: flex;align-items: stretch;justify-content: center;background-color: white;position: relative;}#sk-container-id-1 div.sk-item::before, #sk-container-id-1 div.sk-parallel-item::before {content: \"\";position: absolute;border-left: 1px solid gray;box-sizing: border-box;top: 0;bottom: 0;left: 50%;z-index: -1;}#sk-container-id-1 div.sk-parallel-item {display: flex;flex-direction: column;z-index: 1;position: relative;background-color: white;}#sk-container-id-1 div.sk-parallel-item:first-child::after {align-self: flex-end;width: 50%;}#sk-container-id-1 div.sk-parallel-item:last-child::after {align-self: flex-start;width: 50%;}#sk-container-id-1 div.sk-parallel-item:only-child::after {width: 0;}#sk-container-id-1 div.sk-dashed-wrapped {border: 1px dashed gray;margin: 0 0.4em 0.5em 0.4em;box-sizing: border-box;padding-bottom: 0.4em;background-color: white;}#sk-container-id-1 div.sk-label label {font-family: monospace;font-weight: bold;display: inline-block;line-height: 1.2em;}#sk-container-id-1 div.sk-label-container {text-align: center;}#sk-container-id-1 div.sk-container {/* jupyter's `normalize.less` sets `[hidden] { display: none; }` but bootstrap.min.css set `[hidden] { display: none !important; }` so we also need the `!important` here to be able to override the default hidden behavior on the sphinx rendered scikit-learn.org. See: https://github.com/scikit-learn/scikit-learn/issues/21755 */display: inline-block !important;position: relative;}#sk-container-id-1 div.sk-text-repr-fallback {display: none;}</style><div id=\"sk-container-id-1\" class=\"sk-top-container\"><div class=\"sk-text-repr-fallback\"><pre>DBSCAN(min_samples=14)</pre><b>In a Jupyter environment, please rerun this cell to show the HTML representation or trust the notebook. <br />On GitHub, the HTML representation is unable to render, please try loading this page with nbviewer.org.</b></div><div class=\"sk-container\" hidden><div class=\"sk-item\"><div class=\"sk-estimator sk-toggleable\"><input class=\"sk-toggleable__control sk-hidden--visually\" id=\"sk-estimator-id-1\" type=\"checkbox\" checked><label for=\"sk-estimator-id-1\" class=\"sk-toggleable__label sk-toggleable__label-arrow\">DBSCAN</label><div class=\"sk-toggleable__content\"><pre>DBSCAN(min_samples=14)</pre></div></div></div></div></div>"
      ],
      "text/plain": [
       "DBSCAN(min_samples=14)"
      ]
     },
     "execution_count": 85,
     "metadata": {},
     "output_type": "execute_result"
    }
   ],
   "source": [
    "dbscan = DBSCAN(min_samples=14, eps=0.5)\n",
    "dbscan.fit(dfs)"
   ]
  },
  {
   "cell_type": "code",
   "execution_count": 86,
   "id": "ec5c4f36",
   "metadata": {},
   "outputs": [
    {
     "data": {
      "text/plain": [
       " 0     8022\n",
       " 1     7065\n",
       "-1     2512\n",
       " 2      789\n",
       " 6      716\n",
       " 7      646\n",
       " 16     293\n",
       " 3      215\n",
       " 19     170\n",
       " 4      146\n",
       " 10      98\n",
       " 5       88\n",
       " 14      82\n",
       " 11      64\n",
       " 17      52\n",
       " 13      41\n",
       " 9       38\n",
       " 20      35\n",
       " 18      33\n",
       " 12      32\n",
       " 8       27\n",
       " 21      26\n",
       " 15      18\n",
       " 22      17\n",
       " 23      15\n",
       "dtype: int64"
      ]
     },
     "execution_count": 86,
     "metadata": {},
     "output_type": "execute_result"
    }
   ],
   "source": [
    "pd.Series(dbscan.labels_).value_counts()"
   ]
  },
  {
   "cell_type": "code",
   "execution_count": 89,
   "id": "97351758",
   "metadata": {},
   "outputs": [
    {
     "data": {
      "text/plain": [
       "Global_active_power               4.333502\n",
       "Global_reactive_power             0.352925\n",
       "Voltage                         236.064558\n",
       "Global_intensity                 18.670860\n",
       "Kitchen_consumption              16.071258\n",
       "Laundry_consumption              18.553344\n",
       "Other_appliances_consumption     15.463774\n",
       "cluster                          -1.000000\n",
       "dtype: float64"
      ]
     },
     "execution_count": 89,
     "metadata": {},
     "output_type": "execute_result"
    }
   ],
   "source": [
    "df['cluster'] = dbscan.labels_\n",
    "outliers = df[df['cluster']==-1]\n",
    "\n",
    "outliers.mean()"
   ]
  },
  {
   "cell_type": "raw",
   "id": "7d69f624",
   "metadata": {},
   "source": [
    "There were 2512 houses considered as outliers. Mean value of the feature for this group is given above."
   ]
  },
  {
   "cell_type": "code",
   "execution_count": 90,
   "id": "be3d2144",
   "metadata": {},
   "outputs": [
    {
     "data": {
      "text/html": [
       "<div>\n",
       "<style scoped>\n",
       "    .dataframe tbody tr th:only-of-type {\n",
       "        vertical-align: middle;\n",
       "    }\n",
       "\n",
       "    .dataframe tbody tr th {\n",
       "        vertical-align: top;\n",
       "    }\n",
       "\n",
       "    .dataframe thead th {\n",
       "        text-align: right;\n",
       "    }\n",
       "</style>\n",
       "<table border=\"1\" class=\"dataframe\">\n",
       "  <thead>\n",
       "    <tr style=\"text-align: right;\">\n",
       "      <th></th>\n",
       "      <th>Global_active_power</th>\n",
       "      <th>Global_reactive_power</th>\n",
       "      <th>Voltage</th>\n",
       "      <th>Global_intensity</th>\n",
       "      <th>Kitchen_consumption</th>\n",
       "      <th>Laundry_consumption</th>\n",
       "      <th>Other_appliances_consumption</th>\n",
       "      <th>cluster</th>\n",
       "    </tr>\n",
       "  </thead>\n",
       "  <tbody>\n",
       "    <tr>\n",
       "      <th>count</th>\n",
       "      <td>2512.000000</td>\n",
       "      <td>2512.000000</td>\n",
       "      <td>2512.000000</td>\n",
       "      <td>2512.000000</td>\n",
       "      <td>2512.000000</td>\n",
       "      <td>2512.000000</td>\n",
       "      <td>2512.000000</td>\n",
       "      <td>2512.0</td>\n",
       "    </tr>\n",
       "    <tr>\n",
       "      <th>mean</th>\n",
       "      <td>4.333502</td>\n",
       "      <td>0.352925</td>\n",
       "      <td>236.064558</td>\n",
       "      <td>18.670860</td>\n",
       "      <td>16.071258</td>\n",
       "      <td>18.553344</td>\n",
       "      <td>15.463774</td>\n",
       "      <td>-1.0</td>\n",
       "    </tr>\n",
       "    <tr>\n",
       "      <th>std</th>\n",
       "      <td>2.044619</td>\n",
       "      <td>0.198082</td>\n",
       "      <td>4.174624</td>\n",
       "      <td>8.730881</td>\n",
       "      <td>16.623939</td>\n",
       "      <td>16.500013</td>\n",
       "      <td>6.913838</td>\n",
       "      <td>0.0</td>\n",
       "    </tr>\n",
       "    <tr>\n",
       "      <th>min</th>\n",
       "      <td>0.302000</td>\n",
       "      <td>0.046000</td>\n",
       "      <td>225.120000</td>\n",
       "      <td>1.200000</td>\n",
       "      <td>1.000000</td>\n",
       "      <td>1.000000</td>\n",
       "      <td>1.000000</td>\n",
       "      <td>-1.0</td>\n",
       "    </tr>\n",
       "    <tr>\n",
       "      <th>25%</th>\n",
       "      <td>2.843500</td>\n",
       "      <td>0.200000</td>\n",
       "      <td>233.020000</td>\n",
       "      <td>12.400000</td>\n",
       "      <td>1.000000</td>\n",
       "      <td>2.000000</td>\n",
       "      <td>13.000000</td>\n",
       "      <td>-1.0</td>\n",
       "    </tr>\n",
       "    <tr>\n",
       "      <th>50%</th>\n",
       "      <td>4.352000</td>\n",
       "      <td>0.326000</td>\n",
       "      <td>236.000000</td>\n",
       "      <td>18.600000</td>\n",
       "      <td>2.000000</td>\n",
       "      <td>18.000000</td>\n",
       "      <td>17.000000</td>\n",
       "      <td>-1.0</td>\n",
       "    </tr>\n",
       "    <tr>\n",
       "      <th>75%</th>\n",
       "      <td>5.752000</td>\n",
       "      <td>0.486000</td>\n",
       "      <td>238.940000</td>\n",
       "      <td>24.600000</td>\n",
       "      <td>36.000000</td>\n",
       "      <td>33.000000</td>\n",
       "      <td>18.000000</td>\n",
       "      <td>-1.0</td>\n",
       "    </tr>\n",
       "    <tr>\n",
       "      <th>max</th>\n",
       "      <td>9.994000</td>\n",
       "      <td>1.198000</td>\n",
       "      <td>249.150000</td>\n",
       "      <td>43.400000</td>\n",
       "      <td>40.000000</td>\n",
       "      <td>60.000000</td>\n",
       "      <td>30.000000</td>\n",
       "      <td>-1.0</td>\n",
       "    </tr>\n",
       "  </tbody>\n",
       "</table>\n",
       "</div>"
      ],
      "text/plain": [
       "       Global_active_power  Global_reactive_power      Voltage  \\\n",
       "count          2512.000000            2512.000000  2512.000000   \n",
       "mean              4.333502               0.352925   236.064558   \n",
       "std               2.044619               0.198082     4.174624   \n",
       "min               0.302000               0.046000   225.120000   \n",
       "25%               2.843500               0.200000   233.020000   \n",
       "50%               4.352000               0.326000   236.000000   \n",
       "75%               5.752000               0.486000   238.940000   \n",
       "max               9.994000               1.198000   249.150000   \n",
       "\n",
       "       Global_intensity  Kitchen_consumption  Laundry_consumption  \\\n",
       "count       2512.000000          2512.000000          2512.000000   \n",
       "mean          18.670860            16.071258            18.553344   \n",
       "std            8.730881            16.623939            16.500013   \n",
       "min            1.200000             1.000000             1.000000   \n",
       "25%           12.400000             1.000000             2.000000   \n",
       "50%           18.600000             2.000000            18.000000   \n",
       "75%           24.600000            36.000000            33.000000   \n",
       "max           43.400000            40.000000            60.000000   \n",
       "\n",
       "       Other_appliances_consumption  cluster  \n",
       "count                   2512.000000   2512.0  \n",
       "mean                      15.463774     -1.0  \n",
       "std                        6.913838      0.0  \n",
       "min                        1.000000     -1.0  \n",
       "25%                       13.000000     -1.0  \n",
       "50%                       17.000000     -1.0  \n",
       "75%                       18.000000     -1.0  \n",
       "max                       30.000000     -1.0  "
      ]
     },
     "execution_count": 90,
     "metadata": {},
     "output_type": "execute_result"
    }
   ],
   "source": [
    "outliers.describe()"
   ]
  },
  {
   "cell_type": "markdown",
   "id": "41817abf",
   "metadata": {},
   "source": [
    "### Principal Component Analysis"
   ]
  },
  {
   "cell_type": "code",
   "execution_count": 91,
   "id": "c89dabfc",
   "metadata": {},
   "outputs": [],
   "source": [
    "df = pd.read_excel('power.xlsx')"
   ]
  },
  {
   "cell_type": "code",
   "execution_count": 92,
   "id": "6395a369",
   "metadata": {},
   "outputs": [],
   "source": [
    "from sklearn.preprocessing import StandardScaler\n",
    "from sklearn.decomposition import PCA\n",
    "ss = StandardScaler()\n",
    "dfs = ss.fit_transform(df)"
   ]
  },
  {
   "cell_type": "code",
   "execution_count": 93,
   "id": "a459dd7e",
   "metadata": {},
   "outputs": [
    {
     "data": {
      "image/png": "[encoded data removed]",
      "text/plain": [
       "<Figure size 432x288 with 1 Axes>"
      ]
     },
     "metadata": {
      "needs_background": "light"
     },
     "output_type": "display_data"
    }
   ],
   "source": [
    "pca = PCA()\n",
    "pca.fit(dfs)\n",
    "pd.DataFrame(pca.explained_variance_).plot(kind='bar')\n",
    "plt.show()"
   ]
  },
  {
   "cell_type": "code",
   "execution_count": 94,
   "id": "33ac4b15",
   "metadata": {},
   "outputs": [
    {
     "data": {
      "text/plain": [
       "array([0.45043482, 0.61360152, 0.75329843, 0.88280014, 0.97599237,\n",
       "       0.99990287, 1.        ])"
      ]
     },
     "execution_count": 94,
     "metadata": {},
     "output_type": "execute_result"
    }
   ],
   "source": [
    "np.cumsum(pca.explained_variance_ratio_)"
   ]
  },
  {
   "cell_type": "code",
   "execution_count": 95,
   "id": "8e88bc6e",
   "metadata": {},
   "outputs": [
    {
     "data": {
      "text/plain": [
       "(21240, 2)"
      ]
     },
     "execution_count": 95,
     "metadata": {},
     "output_type": "execute_result"
    }
   ],
   "source": [
    "pca = PCA(n_components=2)\n",
    "dfs_pca = pca.fit_transform(dfs)\n",
    "dfs_pca = pd.DataFrame(dfs_pca, columns=['PC1', 'PC2'])\n",
    "dfs_pca.shape"
   ]
  },
  {
   "cell_type": "code",
   "execution_count": 96,
   "id": "11889c29",
   "metadata": {},
   "outputs": [
    {
     "data": {
      "text/html": [
       "<div>\n",
       "<style scoped>\n",
       "    .dataframe tbody tr th:only-of-type {\n",
       "        vertical-align: middle;\n",
       "    }\n",
       "\n",
       "    .dataframe tbody tr th {\n",
       "        vertical-align: top;\n",
       "    }\n",
       "\n",
       "    .dataframe thead th {\n",
       "        text-align: right;\n",
       "    }\n",
       "</style>\n",
       "<table border=\"1\" class=\"dataframe\">\n",
       "  <thead>\n",
       "    <tr style=\"text-align: right;\">\n",
       "      <th></th>\n",
       "      <th>PC1</th>\n",
       "      <th>PC2</th>\n",
       "    </tr>\n",
       "  </thead>\n",
       "  <tbody>\n",
       "    <tr>\n",
       "      <th>0</th>\n",
       "      <td>-1.067477</td>\n",
       "      <td>-0.532983</td>\n",
       "    </tr>\n",
       "    <tr>\n",
       "      <th>1</th>\n",
       "      <td>0.922166</td>\n",
       "      <td>-1.236260</td>\n",
       "    </tr>\n",
       "  </tbody>\n",
       "</table>\n",
       "</div>"
      ],
      "text/plain": [
       "        PC1       PC2\n",
       "0 -1.067477 -0.532983\n",
       "1  0.922166 -1.236260"
      ]
     },
     "execution_count": 96,
     "metadata": {},
     "output_type": "execute_result"
    }
   ],
   "source": [
    "dfs_pca.head(2)"
   ]
  },
  {
   "cell_type": "code",
   "execution_count": 97,
   "id": "73158a1d",
   "metadata": {},
   "outputs": [
    {
     "data": {
      "text/plain": [
       " 0    18728\n",
       "-1     2512\n",
       "dtype: int64"
      ]
     },
     "execution_count": 97,
     "metadata": {},
     "output_type": "execute_result"
    }
   ],
   "source": [
    "lbl = pd.Series(dbscan.labels_)\n",
    "lbl[lbl!=-1] = 0\n",
    "lbl.value_counts()"
   ]
  },
  {
   "cell_type": "code",
   "execution_count": 98,
   "id": "4759a979",
   "metadata": {},
   "outputs": [
    {
     "data": {
      "image/png": "[encoded data removed]",
      "text/plain": [
       "<Figure size 432x288 with 1 Axes>"
      ]
     },
     "metadata": {
      "needs_background": "light"
     },
     "output_type": "display_data"
    }
   ],
   "source": [
    "sns.scatterplot(x='PC1', y='PC2', data=dfs_pca, hue=lbl)\n",
    "plt.show()"
   ]
  },
  {
   "cell_type": "code",
   "execution_count": null,
   "id": "b2b353cd",
   "metadata": {},
   "outputs": [],
   "source": []
  },
  {
   "cell_type": "code",
   "execution_count": null,
   "id": "2ba8bc6a",
   "metadata": {},
   "outputs": [],
   "source": []
  },
  {
   "cell_type": "code",
   "execution_count": null,
   "id": "51be7590",
   "metadata": {},
   "outputs": [],
   "source": []
  }
 ],
 "metadata": {
  "kernelspec": {
   "display_name": "Python 3 (ipykernel)",
   "language": "python",
   "name": "python3"
  },
  "language_info": {
   "codemirror_mode": {
    "name": "ipython",
    "version": 3
   },
   "file_extension": ".py",
   "mimetype": "text/x-python",
   "name": "python",
   "nbconvert_exporter": "python",
   "pygments_lexer": "ipython3",
   "version": "3.9.12"
  }
 },
 "nbformat": 4,
 "nbformat_minor": 5
}
